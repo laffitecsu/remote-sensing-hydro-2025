{
  "nbformat": 4,
  "nbformat_minor": 0,
  "metadata": {
    "colab": {
      "provenance": [],
      "authorship_tag": "ABX9TyP2WD7888Ds+l9Cn9STxlc1",
      "include_colab_link": true
    },
    "kernelspec": {
      "name": "python3",
      "display_name": "Python 3"
    },
    "language_info": {
      "name": "python"
    }
  },
  "cells": [
    {
      "cell_type": "markdown",
      "metadata": {
        "id": "view-in-github",
        "colab_type": "text"
      },
      "source": [
        "<a href=\"https://colab.research.google.com/github/rg-smith/remote-sensing-hydro-2025/blob/main/assignments/homework1/part2-starter-file.ipynb\" target=\"_parent\"><img src=\"https://colab.research.google.com/assets/colab-badge.svg\" alt=\"Open In Colab\"/></a>"
      ]
    },
    {
      "cell_type": "markdown",
      "source": [
        "# Homework 1, Part 2 Starter File\n",
        "This file is not required, but can be used if you are having trouble installing necessary packages locally."
      ],
      "metadata": {
        "id": "VmSr2ZZi-2jD"
      }
    },
    {
      "cell_type": "markdown",
      "source": [
        "First, we will clone the repository from remote-sensing-hydro-2025, so we can use the necessary files. This might take a while."
      ],
      "metadata": {
        "id": "m5Me1j3L_-2I"
      }
    },
    {
      "cell_type": "code",
      "execution_count": null,
      "metadata": {
        "id": "uZTIrm7I-0To"
      },
      "outputs": [],
      "source": [
        "!git clone https://github.com/rg-smith/remote-sensing-hydro-2025.git"
      ]
    },
    {
      "cell_type": "markdown",
      "source": [
        "Now we will install the necessary packages. We will install one at a time"
      ],
      "metadata": {
        "id": "wVMntEDa_8tT"
      }
    },
    {
      "cell_type": "code",
      "source": [
        "!pip install rasterio"
      ],
      "metadata": {
        "id": "351Ymd6ZN-mh"
      },
      "execution_count": null,
      "outputs": []
    },
    {
      "cell_type": "code",
      "source": [
        "!pip install rasterstats"
      ],
      "metadata": {
        "id": "nmeSx4vqQ2MD"
      },
      "execution_count": null,
      "outputs": []
    },
    {
      "cell_type": "code",
      "source": [
        "import matplotlib.pyplot as plt\n",
        "import geopandas as gpd\n",
        "import rasterio\n",
        "from rasterio.plot import show\n",
        "from rasterstats import zonal_stats\n",
        "import numpy as np\n",
        "import pandas as pd"
      ],
      "metadata": {
        "id": "s0_CxfNJ_5Pl"
      },
      "execution_count": null,
      "outputs": []
    },
    {
      "cell_type": "code",
      "source": [
        "# use this code block (or more if you'd like to break it into parts) to complete the assignment outlined in the word doc."
      ],
      "metadata": {
        "id": "cfzJXOmGcvxH"
      },
      "execution_count": null,
      "outputs": []
    }
  ]
}