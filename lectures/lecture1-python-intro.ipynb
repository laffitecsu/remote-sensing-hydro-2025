{
 "cells": [
  {
   "cell_type": "markdown",
   "id": "28750536-9484-4335-ab95-2d2aaf7de4a0",
   "metadata": {},
   "source": [
    "defining variables"
   ]
  },
  {
   "cell_type": "code",
   "execution_count": null,
   "id": "80e50657-803b-4c9e-ac16-fb5dc69c371a",
   "metadata": {},
   "outputs": [],
   "source": [
    "print(x)\n",
    "x=4"
   ]
  },
  {
   "cell_type": "markdown",
   "id": "dbcece4a-0e34-49c5-8378-4e52faa9387c",
   "metadata": {},
   "source": [
    "loading libraries"
   ]
  },
  {
   "cell_type": "code",
   "execution_count": null,
   "id": "1e2e4dc7-c868-43d3-85ae-e324d601f1fb",
   "metadata": {},
   "outputs": [],
   "source": [
    "# numpy, matplotlib"
   ]
  },
  {
   "cell_type": "markdown",
   "id": "537c0a81-f35f-40a4-9fb1-aeea774357eb",
   "metadata": {},
   "source": [
    "creating arrays"
   ]
  },
  {
   "cell_type": "code",
   "execution_count": null,
   "id": "d57a0970-e8c2-4469-bbe2-8c7d621b41ac",
   "metadata": {},
   "outputs": [],
   "source": []
  },
  {
   "cell_type": "markdown",
   "id": "bbc6445b-3779-4c73-8bfc-bd14c1e2cf8a",
   "metadata": {},
   "source": [
    "plotting data"
   ]
  },
  {
   "cell_type": "code",
   "execution_count": null,
   "id": "7137f52d-c5a9-42bc-b1a0-d4bfdc8de36e",
   "metadata": {},
   "outputs": [],
   "source": []
  },
  {
   "cell_type": "markdown",
   "id": "2cf160a9-0cf1-4686-afe2-fae488b8221e",
   "metadata": {},
   "source": [
    "loading data from .csv"
   ]
  },
  {
   "cell_type": "code",
   "execution_count": null,
   "id": "753e7614-1f8c-4dbc-bb97-1ccb84c45499",
   "metadata": {},
   "outputs": [],
   "source": []
  },
  {
   "cell_type": "markdown",
   "id": "6d00936a-9526-4325-9945-20c3a9ffaf21",
   "metadata": {},
   "source": [
    "defining your own function"
   ]
  },
  {
   "cell_type": "code",
   "execution_count": null,
   "id": "507d6d9f-a550-4657-b7c7-4d70432d6c47",
   "metadata": {},
   "outputs": [],
   "source": []
  },
  {
   "cell_type": "markdown",
   "id": "bd051ee0-df12-48fa-ae27-f66958ab0b78",
   "metadata": {},
   "source": [
    "loops"
   ]
  },
  {
   "cell_type": "code",
   "execution_count": null,
   "id": "3f23889d-ae99-4217-8322-d43166c95d64",
   "metadata": {},
   "outputs": [],
   "source": []
  }
 ],
 "metadata": {
  "kernelspec": {
   "display_name": "Python 3 (ipykernel)",
   "language": "python",
   "name": "python3"
  },
  "language_info": {
   "codemirror_mode": {
    "name": "ipython",
    "version": 3
   },
   "file_extension": ".py",
   "mimetype": "text/x-python",
   "name": "python",
   "nbconvert_exporter": "python",
   "pygments_lexer": "ipython3",
   "version": "3.12.2"
  }
 },
 "nbformat": 4,
 "nbformat_minor": 5
}
